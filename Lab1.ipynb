{
 "cells": [
  {
   "cell_type": "markdown",
   "metadata": {},
   "source": [
    "<div class=\"alert alert-block alert-info\">\n",
    "<h3>Student Information</h3> Please provide information about yourself.<br>\n",
    "<b>Name</b>: Ayush Kadakia<br>\n",
    "<b>NetID</b>: aak227<br>\n",
    "<b>Recitation #</b>: 91<br>\n",
    "<b>Notes to Grader</b> (optional):<br>\n",
    "<br><br>\n",
    "<b>IMPORTANT</b>\n",
    "Your work will not be graded withour your initials below<br>\n",
    "I certify that this lab represents my own work and I have read the RU academic intergrity policies at<br>\n",
    "<a href=\"https://www.cs.rutgers.edu/academic-integrity/introduction\">https://www.cs.rutgers.edu/academic-integrity/introduction </a><br>\n",
    "<b>Initials</b>:  AK  (eg: AG for Andy Guna)\n",
    "\n",
    "\n",
    "<h3>Grader Notes</h3>\n",
    "<b>Your Grade<b>:<br>\n",
    "<b>Grader Initials</b>:<br>\n",
    "<b>Grader Comments</b> (optional):<br>\n",
    "</div>"
   ]
  },
  {
   "cell_type": "markdown",
   "metadata": {
    "nbgrader": {
     "grade": false,
     "grade_id": "intro",
     "locked": true,
     "schema_version": 2,
     "solution": false
    }
   },
   "source": [
    "### CS 439 - Introduction to Data Science\n",
    "### Fall 2021\n",
    "\n",
    "### Lab 1 - Getting Started (40 points)\n",
    "### Due Date: Monday September 13, 2020 on or before 11:59 PM\n",
    "\n",
    "This is the first lab of CS 439. The goal of this lab is to help you familiarize yourself with Jupyter Notebooks and some very basic python functions. We will also introduce you to `matplotlib`, a python visualization library. This notebook has multiple tasks that you need to complete. To complete a task, just double click on the cell (notebook must be opened in Jupyter) and enter your answer. Be sure to save the notebook often (ctrl-S) and execute the cell (Shift-Enter) to make sure you code is saved and executes correctly.\n",
    "\n",
    "## Course Policies\n",
    "\n",
    "**Collaboration Policy**\n",
    "\n",
    "Data science is a collaborative activity. While you may talk with others about the labs, we ask that you **write your solutions individually**. You are not allowed to copy code from other notebooks. Attempting to submit code that is not yours can result in penalties and academic disciplinary actions. Please consult course staff for any clarification regarding collaboration policies."
   ]
  },
  {
   "cell_type": "markdown",
   "metadata": {
    "nbgrader": {
     "grade": false,
     "grade_id": "running-a-cell",
     "locked": true,
     "schema_version": 2,
     "solution": false
    }
   },
   "source": [
    "### Running a Cell \n",
    "\n",
    "Try running the following cell.  If you are unfamiliar with Jupyter Notebooks, consider skimming [this tutorial](http://nbviewer.jupyter.org/github/jupyter/notebook/blob/master/docs/source/examples/Notebook/Notebook%20Basics.ipynb) or selecting **Help -> User Interface Tour** in the menu above. TO run the cell below, place the cursor on the cell and press (SHIFT-ENTER) or choose Run from the Jupyter menu above.\n",
    "### IMPORTANT\n",
    "It is important that you run this notebook sequentially. That is, if you get an error from a cell, be sure to check if the cells before the error cell has been executed. In most cases, if a state of a variable is not initialized, then it can cause the cell execution to throw an error message."
   ]
  },
  {
   "cell_type": "markdown",
   "metadata": {
    "nbgrader": {
     "grade": false,
     "grade_id": "hello-world",
     "locked": true,
     "schema_version": 2,
     "solution": false
    }
   },
   "source": [
    "### Jupyter Shortcuts"
   ]
  },
  {
   "cell_type": "markdown",
   "metadata": {
    "nbgrader": {
     "grade": false,
     "grade_id": "shortcuts",
     "locked": true,
     "schema_version": 2,
     "solution": false
    }
   },
   "source": [
    "Even if you are familiar with Jupyter, we strongly encourage you to become proficient with keyboard shortcuts (this will save you time in the future). To learn about keyboard shortcuts, go to **Help -> Keyboard Shortcuts** in the menu above. \n",
    "\n",
    "Here are a few we like:\n",
    "1. `ctrl`+`return` : *Evaluate the current cell*\n",
    "1. `shift`+`return`: *Evaluate the current cell and move to the next*\n",
    "1. `esc` : *command mode* (may need to press before using any of the commands below)\n",
    "1. `a` : *create a cell above*\n",
    "1. `b` : *create a cell below*\n",
    "1. `dd` : *delete a cell*\n",
    "1. `m` : *convert a cell to markdown*\n",
    "1. `y` : *convert a cell to code*"
   ]
  },
  {
   "cell_type": "markdown",
   "metadata": {},
   "source": [
    "### Hello World\n",
    "This is the first code you write in any language. In python, it is really simple. Execute the code (shift-enter) to see the output cell below the code."
   ]
  },
  {
   "cell_type": "code",
   "execution_count": null,
   "metadata": {},
   "outputs": [],
   "source": [
    "print(\"Hello World!\")"
   ]
  },
  {
   "cell_type": "markdown",
   "metadata": {},
   "source": [
    "## Task 1 - Numpy Basics\n",
    "In this part we will do few short exercises to understand how numpy works. Prior to begining this part, please read the numpy documentation at https://docs.scipy.org/doc/numpy/user/quickstart.html"
   ]
  },
  {
   "cell_type": "code",
   "execution_count": null,
   "metadata": {
    "ExecuteTime": {
     "end_time": "2018-01-18T23:21:43.841930Z",
     "start_time": "2018-01-18T23:21:43.193583Z"
    },
    "nbgrader": {
     "grade": false,
     "grade_id": "imports",
     "locked": true,
     "schema_version": 2,
     "solution": false
    }
   },
   "outputs": [],
   "source": [
    "# NumPy is an extension module for Python (mostly written in C) and provides precompiled mathematical and numerical \n",
    "# functions with guaranteed execution speed. Numpy is so important that many of the other python libraries depend on numpy\n",
    "# we need to import python modules before use. In this case, we rename numpy as np. You should execute this cell before \n",
    "# other tasks can be completed.\n",
    "import numpy as np"
   ]
  },
  {
   "cell_type": "markdown",
   "metadata": {},
   "source": [
    "### numpy documentation\n",
    "Using numpy to complete the code to accomplish following tasks. You may want to refer to numpy documention\n",
    "https://www.numpy.org/devdocs/reference/\n",
    "to understand how to do these things. Learning how to read and understand documentation is a key skill\n",
    "that you need. "
   ]
  },
  {
   "cell_type": "code",
   "execution_count": null,
   "metadata": {},
   "outputs": [],
   "source": [
    "# create an array of 10 zeros\n",
    "A = np.zeros(10)\n",
    "print(A)\n",
    "\n",
    "# create an array of 10 1's\n",
    "A = np.ones(10)\n",
    "print(A)\n",
    "\n",
    "# create a 1D array that contains numbers from 0 to 99\n",
    "C = np.arange(0, 100, 1)\n",
    "print(C)\n",
    "\n",
    "# convert the array to a 10x10 matrix/2D Array  \n",
    "# The array should look like [[0,1,..,9],[10,11,..,19],....[90,91,...99]]\n",
    "D = C.reshape((10,10))\n",
    "print(D)\n",
    "\n",
    "# create a 1D array that contains all odd numbers from 1 to 99\n",
    "E = np.arange(1, 100, 2)\n",
    "print(E)\n",
    "\n",
    "# create a 3x3 identity matrix\n",
    "F = np.identity(3)\n",
    "print(F)\n"
   ]
  },
  {
   "cell_type": "markdown",
   "metadata": {},
   "source": [
    "###  Random Numbers "
   ]
  },
  {
   "cell_type": "code",
   "execution_count": null,
   "metadata": {},
   "outputs": [],
   "source": [
    "# Generate a random number between 0 and 1\n",
    "A = np.random.rand()\n",
    "print(A)\n",
    "\n",
    "# Generate 10 random numbers from the standard normal distribution\n",
    "B = np.random.standard_normal(10)\n",
    "print(B)\n",
    "\n",
    "# create a 10x10 matrix, that contains values from 1 to 100\n",
    "C = np.random.randint(1, 101, size = (10,10))\n",
    "print(C)"
   ]
  },
  {
   "cell_type": "markdown",
   "metadata": {},
   "source": [
    "### Linearly Spaced Points\n",
    "There are many tasks that you need to generate a set of points in a range that are linearly spaced. For this task\n",
    "we will use numpy modules arnage and linspace.\n",
    "\n",
    "Note that the tutorial uses `np.arange`. While this is fine in some cases, we generally prefer to use `np.linspace`. `np.linspace(a, b, N)` divides the interval `[a, b]` into N points, while `np.arange(a, b, s)` will step from `a` to `b` with a fixed step size `s`.\n",
    "\n",
    "One thing to keep in mind is that `np.linspace` always includes both end points while `np.arange` will *not* include the second end point `b`. For this reason, when we are plotting ranges of values we tend to prefer `np.linspace`.\n",
    "\n",
    "Write two functions that return the same result."
   ]
  },
  {
   "cell_type": "code",
   "execution_count": null,
   "metadata": {},
   "outputs": [],
   "source": [
    "# create an array of linearly spaced points from -5(inclusive) to 6 (not inclusive) spaced by 1\n",
    "A = np.arange(-5, 6, 1)\n",
    "print(A)\n",
    "\n",
    "# do the same with linspace\n",
    "B = np.linspace(-5, 5, 11)\n",
    "print(B)\n"
   ]
  },
  {
   "cell_type": "markdown",
   "metadata": {},
   "source": [
    "### Useful tip about function definition\n",
    "\n",
    "If you are ever confused about how a function works or behaves, click to the right of the function name, or inside the parentheses following the function. Then type `Shift` + `Tab`, and a window with the function's signature and docstring will appear. Holding down `Shift` and pressing `Tab` multiple times will bring up more and more detailed levels of documentation. Try this out in the cells above on `np.arange` and `np.linspace`!"
   ]
  },
  {
   "cell_type": "markdown",
   "metadata": {
    "nbgrader": {
     "grade": false,
     "grade_id": "part-a",
     "locked": true,
     "schema_version": 2,
     "solution": false
    }
   },
   "source": [
    "## Task 2 - Plotting\n",
    "Plotting is a key activity in Data Science. Matplotlib is a widely used plotting library in python.\n",
    "Here is the documentation: https://matplotlib.org/api/pyplot_api.html.\n",
    "We're going to start by going through the official `pyplot` tutorial. Please go through the [tutorial](pyplot.ipynb) and familiarize yourself with the basics of `pyplot`. This should take roughly 25 minutes."
   ]
  },
  {
   "cell_type": "code",
   "execution_count": null,
   "metadata": {},
   "outputs": [],
   "source": [
    "# Matplotlib is a Python 2D plotting library \n",
    "import matplotlib.pyplot as plt\n",
    "\n",
    "# %matplotlib inline is a magic command in Python that visualizes and stores any plots you draw or any plots \n",
    "# we provide directly in the notebook.\n",
    "%matplotlib inline"
   ]
  },
  {
   "cell_type": "markdown",
   "metadata": {
    "nbgrader": {
     "grade": false,
     "grade_id": "part-b",
     "locked": true,
     "schema_version": 2,
     "solution": false
    }
   },
   "source": [
    "Now that you're familiar with the basics of `pyplot`, let's practice with some `pyplot` questions."
   ]
  },
  {
   "cell_type": "markdown",
   "metadata": {
    "nbgrader": {
     "grade": false,
     "grade_id": "q1a",
     "locked": true,
     "schema_version": 2,
     "solution": false
    }
   },
   "source": [
    "### Question 2.1\n",
    "Let's visualize the function $f(t) = 3\\sin(2\\pi t)$. Set the x limit of all figures to $[0, \\pi]$ and the y limit to $[-10, 10]$. Plot the sine function using `plt.plot` with 30 red plus signs. Additionally, make sure the x ticks are labeled $[0, \\frac{\\pi}{2}, \\pi]$, and that your axes are labeled as well.\n",
    "\n",
    "Your plot should look like the following:\n",
    "\n",
    "![1a.png](1a.png)\n",
    "\n",
    "Hint 1: You can set axis bounds with `plt.axis`.\n",
    "\n",
    "Hint 2: You can set xticks and labels with `plt.xticks`.\n",
    "\n",
    "Hint 3: Make sure you add `plt.xlabel`, `plt.ylabel`, `plt.title`"
   ]
  },
  {
   "cell_type": "code",
   "execution_count": null,
   "metadata": {
    "nbgrader": {
     "grade": true,
     "grade_id": "q1a-answer",
     "locked": false,
     "points": 1,
     "schema_version": 2,
     "solution": true
    }
   },
   "outputs": [],
   "source": [
    "### BEGIN SOLUTION\n",
    "A = plt.axis([0, np.pi, -10, 10])\n",
    "pi = np.pi\n",
    "\n",
    "plt.xticks([0, pi/2, pi], ['0','π/2','π'])\n",
    "x = np.arange(0, pi, (pi/30))\n",
    "y = 3 * np.sin(2 * pi * x)\n",
    "plt.plot(x, y, marker = '+', color = 'red', linestyle= 'none')\n",
    "plt.xlabel('t')\n",
    "plt.ylabel('f(t)')\n",
    "plt.title('f(t)=3sin(2πt) ')\n",
    "\n",
    "### END SOLUTION"
   ]
  },
  {
   "cell_type": "markdown",
   "metadata": {
    "nbgrader": {
     "grade": false,
     "grade_id": "q1b",
     "locked": true,
     "schema_version": 2,
     "solution": false
    }
   },
   "source": [
    "### Question 2.2\n",
    "Suppose we want to visualize the function $g(t) = a \\cdot \\sin(2 \\pi f t)$ while varying the values $f, a$. Generate a 2 by 2 plot that plots the function $g(t)$ as a line plot with values $f = 2, 8$ and $a = 2, 8$. Since there are 2 values of $f$ and 2 values of $a$ there are a total of 4 combinations, hence a 2 by 2 plot. The rows should vary in $a$ and the columns should vary in $f$.\n",
    "\n",
    "Set the x limit of all figures to $[0, \\pi]$ and the y limit to $[-10, 10]$. The figure size should be 8 by 8. Make sure to label your x and y axes with the appropriate value of $f$ or $a$. Additionally, make sure the x ticks are labeled $[0, \\frac{\\pi}{2}, \\pi]$. Your overall plot should look something like this:\n",
    "\n",
    "![2by2](1b.png)\n",
    "\n",
    "Hint 1: Modularize your code and use loops.\n",
    "\n",
    "Hint 2: Are your plots too close together such that the labels are overlapping with other plots? Look at the [`plt.subplots_adjust`](https://matplotlib.org/api/_as_gen/matplotlib.pyplot.subplots_adjust.html) function.\n",
    "\n",
    "Hint 3: Having trouble setting the x-axis ticks and ticklabels? Look at the [`plt.xticks`](https://matplotlib.org/api/_as_gen/matplotlib.pyplot.xticks.html) function.\n",
    "\n",
    "Hint 4: You can add title to overall plot with `plt.suptitle`."
   ]
  },
  {
   "cell_type": "code",
   "execution_count": null,
   "metadata": {
    "nbgrader": {
     "grade": true,
     "grade_id": "q1b-answer",
     "locked": false,
     "points": 1,
     "schema_version": 2,
     "solution": true
    }
   },
   "outputs": [],
   "source": [
    "### BEGIN SOLUTION\n",
    "fig, axs = plt.subplots(2, 2, figsize = (8,8))\n",
    "plt.subplots_adjust(wspace=0.5, hspace=0.5)\n",
    "\n",
    "x = np.arange(0, pi, (pi/300))\n",
    "\n",
    "f_vals = [2,8]\n",
    "a_vals = [2,8]\n",
    "\n",
    "for j in range(0, len(f_vals)):\n",
    "    for k in range(0, len(a_vals)):\n",
    "        axs[k,j].axis([0, np.pi, -10, 10])\n",
    "        axs[k,j].plot(x, f_vals[j] * np.sin(2*pi*a_vals[k]*x))\n",
    "        axs[k,j].set_xticks([0, pi/2, pi])\n",
    "        axs[k,j].set_xticklabels(['0','π/2','π'])\n",
    "        axs[k,j].set_xlabel('a: ' + str(a_vals[j]))\n",
    "        axs[k,j].set_ylabel('f: ' + str(f_vals[k]))\n",
    "\n",
    "plt.suptitle('Sine waves with varying a=[2,8], f=[2,8]')\n",
    "\n",
    "### END SOLUTION"
   ]
  },
  {
   "cell_type": "markdown",
   "metadata": {},
   "source": [
    "## Question 2.3 3D Plotting\n",
    "The code below plot function f(x,y) in 3D. The function is \n",
    "$$f(x,y) = x^2 + y^2$$\n",
    "### Activity 1\n",
    "Observe the values of (x,y) that minimizes the function f(x,y)\n",
    "\n",
    "It would be x of 0 and y of 0\n",
    "\n",
    "### Activity 2\n",
    "Change the function to $$f(x,y) = xy $$ and re-plot. Estimate the values (x,y) that minimizes f(x,y)?\n",
    "\n",
    "It would be negative values of infinity for x and positive values of infinity for y and vice versa.\n",
    "\n"
   ]
  },
  {
   "cell_type": "code",
   "execution_count": null,
   "metadata": {},
   "outputs": [],
   "source": [
    "from mpl_toolkits import mplot3d\n",
    "%matplotlib inline\n",
    "import numpy as np\n",
    "import matplotlib.pyplot as plt\n",
    "\n",
    "def f(x, y):\n",
    "    return (x**2 + y**2)\n",
    "\n",
    "x = np.linspace(-6, 6, 30)\n",
    "y = np.linspace(-6, 6, 30)\n",
    "\n",
    "X, Y = np.meshgrid(x, y)\n",
    "Z = f(X, Y)\n",
    "\n",
    "fig = plt.figure()\n",
    "ax = plt.axes(projection='3d')\n",
    "ax.contour3D(X, Y, Z, 50, cmap='binary')\n",
    "ax.set_xlabel('x')\n",
    "ax.set_ylabel('y')\n",
    "ax.set_zlabel('z');"
   ]
  },
  {
   "cell_type": "markdown",
   "metadata": {
    "nbgrader": {
     "grade": false,
     "grade_id": "q2",
     "locked": true,
     "schema_version": 2,
     "solution": false
    }
   },
   "source": [
    "## Task 3 - Reading Documentation\n",
    "We should also familiarize ourselves with looking up documentation and learning how to read it. Below is a section of code that plots a basic wireframe. Replace each `# Your answer here` with a description of what the line above does, what the arguments being passed in are, and how the arguments are used in the function. For example your answer may look like,\n",
    "\n",
    "`np.arange(2, 5, 0.2)`\n",
    "\n",
    "`# This returns an array of numbers from 2 to 5 with an interval size of 0.2`\n",
    "\n",
    "Hint: The `Shift` + `Tab` (to see what a function does) tip from earlier in the notebook may help here."
   ]
  },
  {
   "cell_type": "code",
   "execution_count": null,
   "metadata": {
    "nbgrader": {
     "grade": true,
     "grade_id": "q2-answer",
     "locked": false,
     "points": 1,
     "schema_version": 2,
     "solution": true
    }
   },
   "outputs": [],
   "source": [
    "from mpl_toolkits.mplot3d import axes3d\n",
    "\n",
    "u = np.linspace(1.5*np.pi, -1.5*np.pi, 100)\n",
    "#This returns 100 linearly spaced numbers from 1.5π to -1.5π\n",
    "\n",
    "[x,y] = np.meshgrid(u, u)\n",
    "#Creates a rectangular grid of two 1D arrays. In this case, it would be a square since u is the same for both inputs. It creates a cartersian product from the u vectors depending on which is inputted first.\n",
    "squared = np.sqrt(x.flatten()**2 + y.flatten()**2)\n",
    "z = np.cos(squared)\n",
    "# Returns an array of the values of f(x,y) = cos(x^2 + y^2) where x and y are the flattened values from the meshgrid above.\n",
    "z = z.reshape(x.shape)\n",
    "# z is a 10000 x 1 array, this will reshape it to be a 100 x 100 array since the shape of x is 100 x 100\n",
    "\n",
    "fig = plt.figure()\n",
    "ax = fig.add_subplot(111, projection='3d')\n",
    "# This will create a 3D axes, the 111 are passed in as parameters for n rows,cols,and index\n",
    "ax.plot_wireframe(x, y, z, rstride=10, cstride=10)\n",
    "# This takes an input of values and makes it easy to visualize by creating a 3D surface. It takes 3 2D matrices as inputs and has an rstride and cstride of 10 which means it downsamples in x y and z for every 10th value to draw the wireframe  \n",
    "ax.view_init(elev=50., azim=30)\n",
    "# This sets the elevation angle to 50 and the azimuth angle to 30. Elevation angle is the angle the in the z plane and the azimuth angle is the angle in the x,y plane.\n",
    "plt.savefig(\"figure1.png\")\n"
   ]
  },
  {
   "cell_type": "markdown",
   "metadata": {
    "nbgrader": {
     "grade": false,
     "grade_id": "q3",
     "locked": true,
     "schema_version": 2,
     "solution": false
    }
   },
   "source": [
    "## Task 4 - Feedback\n",
    "What do you expect to learn from this course?\n",
    "Tell us what you think by creating a Markdown cell below this cell. Be sure to save your file (ctril-S) regularly.\n",
    "\n",
    "I expect to learn a lot of the popular data science tools and get some hands on experience on working with them. Machine learning is also something I am interested in learning about."
   ]
  },
  {
   "cell_type": "markdown",
   "metadata": {},
   "source": [
    "<div class=\"alert alert-block alert-info\">\n",
    "<h2>Submission Instructions</h2> \n",
    "<b> File Name:</b> Please name the file as your_netID_lab1.ipynb (eg: adg133_lab1.ipynb)<br>\n",
    "<b> Submit To: </b> Canvas &rarr; Assignments &rarr; Lab1 <br>\n",
    "<b>Warning:</b> Failure to follow directions may result in loss points.<br>\n",
    "</div>"
   ]
  },
  {
   "cell_type": "markdown",
   "metadata": {
    "nbgrader": {
     "grade": true,
     "grade_id": "q3-answer",
     "locked": false,
     "points": 0,
     "schema_version": 2,
     "solution": true
    }
   },
   "source": [
    "@2021 A.D. Gunawardena. Credits to Josh Hug and Berkeley Data Science Group for some ideas used in this notebook."
   ]
  }
 ],
 "metadata": {
  "celltoolbar": "Create Assignment",
  "kernelspec": {
   "display_name": "Python 3",
   "language": "python",
   "name": "python3"
  },
  "language_info": {
   "codemirror_mode": {
    "name": "ipython",
    "version": 3
   },
   "file_extension": ".py",
   "mimetype": "text/x-python",
   "name": "python",
   "nbconvert_exporter": "python",
   "pygments_lexer": "ipython3",
   "version": "3.8.5"
  },
  "toc": {
   "colors": {
    "hover_highlight": "#DAA520",
    "running_highlight": "#FF0000",
    "selected_highlight": "#FFD700"
   },
   "moveMenuLeft": true,
   "nav_menu": {
    "height": "156px",
    "width": "252px"
   },
   "navigate_menu": true,
   "number_sections": true,
   "sideBar": true,
   "threshold": 4,
   "toc_cell": true,
   "toc_section_display": "block",
   "toc_window_display": true
  }
 },
 "nbformat": 4,
 "nbformat_minor": 4
}
