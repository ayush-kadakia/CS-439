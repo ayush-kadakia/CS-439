{
 "cells": [
  {
   "cell_type": "markdown",
   "metadata": {},
   "source": [
    "<div class=\"alert alert-block alert-info\">\n",
    "<h3>Student Information</h3> Please provide information about yourself.<br>\n",
    "<b>Name</b>: Ayush Kadakia<br>\n",
    "<b>NetID</b>: aak227<br>\n",
    "<b>Recitation (01/02/90/91)</b>: 91<br>\n",
    "<b>Notes to Grader</b> (optional):<br>\n",
    "<br><br>\n",
    "<b>IMPORTANT</b>\n",
    "Your work will not be graded withour your initials below<br>\n",
    "I certify that this lab represents my own work and I have read the RU academic intergrity policies at<br>\n",
    "<a href=\"https://www.cs.rutgers.edu/academic-integrity/introduction\">https://www.cs.rutgers.edu/academic-integrity/introduction </a><br>\n",
    "<b>Initials</b>: AK    \n",
    "\n",
    "\n",
    "<h3>Grader Notes</h3>\n",
    "<b>Your Grade<b>:<br>\n",
    "<b>Grader Initials</b>:<br>\n",
    "<b>Grader Comments</b> (optional):<br>\n",
    "</div>"
   ]
  },
  {
   "cell_type": "markdown",
   "metadata": {},
   "source": [
    "# Lab 6: Linear Regression, Gradient Descent and Feature Engineering\n",
    "\n",
    "### Due Date: Sunday Dec 12, 2021 on or before 11:59 PM\n",
    "\n",
    "In this lab we will work through the process of:\n",
    "1. implementing a linear model\n",
    "2. defining loss functions using L1, L2 and Huber\n",
    "3. Implementing a gradient descent \n",
    "4. Experiment with Feature Engineering\n",
    "5. Examining regression using numeric libraries \n"
   ]
  },
  {
   "cell_type": "markdown",
   "metadata": {},
   "source": [
    "## Initialize"
   ]
  },
  {
   "cell_type": "code",
   "execution_count": null,
   "metadata": {},
   "outputs": [],
   "source": [
    "import pandas as pd\n",
    "import numpy as np\n",
    "import seaborn as sns\n",
    "import matplotlib.pyplot as plt\n",
    "np.random.seed(42)\n",
    "plt.style.use('fivethirtyeight')\n",
    "sns.set()\n",
    "sns.set_context(\"talk\")\n",
    "%matplotlib inline"
   ]
  },
  {
   "cell_type": "markdown",
   "metadata": {},
   "source": [
    "# Univariate Linear Regression\n",
    "In this part of the lab, we will model linear regression based on a data set that contains grades from CS 205 course in fall 2018. The dataset (with no ID's) contain midterm and final exam grades (and other assignments). \n",
    "# Task 1 - Initialization\n",
    "Read the file into a dataframe and keep only the midtermRaw and FinaRaw columns. We will be doing univariate regression on input=midterm, output=finalExam\n",
    "The goal is to find a model that will allow us to predict the final exam score given the midterm score."
   ]
  },
  {
   "cell_type": "markdown",
   "metadata": {},
   "source": [
    "## Activity 1.1  Read Data"
   ]
  },
  {
   "cell_type": "code",
   "execution_count": null,
   "metadata": {},
   "outputs": [],
   "source": [
    "import pandas as pd\n",
    "df = pd.read_csv(\"data/CS205_grades_12_19_18_Final.csv\")\n",
    "df_cleaned = df[['midtermRaw','finalRaw']]\n",
    "# drop all undefined rows \n",
    "df_cleaned = df_cleaned.dropna() \n",
    "df_cleaned.head()"
   ]
  },
  {
   "cell_type": "markdown",
   "metadata": {},
   "source": [
    "## Activity 1.2 Normalize Data\n",
    "Normalize midterm and final scores to be between 0 and 1."
   ]
  },
  {
   "cell_type": "code",
   "execution_count": null,
   "metadata": {},
   "outputs": [],
   "source": [
    "# set of observations\n",
    "X = df_cleaned.dropna().iloc[:,[0]]\n",
    "# set of categories\n",
    "Y = df_cleaned.dropna().iloc[:,[1]]\n",
    "\n",
    "# normalize the numeric data\n",
    "from sklearn.preprocessing import MinMaxScaler\n",
    "scaler = MinMaxScaler() \n",
    "# BEGIN SOLUTION\n",
    "\n",
    "X_scaled_values = scaler.fit_transform(X)\n",
    "Y_scaled_values = scaler.fit_transform(Y)\n",
    "\n",
    "# END SOLUTION\n",
    "\n",
    "print(X_scaled_values, Y_scaled_values)"
   ]
  },
  {
   "cell_type": "markdown",
   "metadata": {},
   "source": [
    "## Activity 1.3 Plot the data to see if a linear regression line is a good fit"
   ]
  },
  {
   "cell_type": "code",
   "execution_count": null,
   "metadata": {},
   "outputs": [],
   "source": [
    "import numpy as np\n",
    "import matplotlib.pyplot as plt\n",
    "\n",
    "# BEGIN SOLUTION\n",
    "\n",
    "plt.scatter(X_scaled_values, Y_scaled_values)\n",
    "\n",
    "# END SOLUTION"
   ]
  },
  {
   "cell_type": "markdown",
   "metadata": {},
   "source": [
    "### Question 1.3.1\n",
    "**Based on what you see in the plot, do you think it is fine to use linear regression?. Briefly explain below**\n",
    "\n",
    "***BEGIN SOLUTION***\n",
    "\n",
    "Yes, all the points fit around a line of best fit.\n",
    "\n",
    "***END SOLUTION***"
   ]
  },
  {
   "cell_type": "markdown",
   "metadata": {},
   "source": [
    "# Task 2 Manual Exploration of Linear Regression Line\n",
    "In this task we will manually explore the linear regression line. This will give us a good intution about the process.\n",
    "The goal now is to fit a line \n",
    "$$\n",
    "h(\\theta) = \\theta_0 + \\theta_1*x \n",
    "$$\n",
    "for all data points (x,y), such that the error\n",
    "$$\n",
    "E(\\theta) = \\sum(h(\\theta)-y)^2 $$ is minimized. In this task we will manually change the values of theta0 and theta1 such that you obtained the smallest possible error. \n"
   ]
  },
  {
   "cell_type": "code",
   "execution_count": null,
   "metadata": {},
   "outputs": [],
   "source": [
    "def h(theta0, theta1, x):\n",
    "    \"\"\"\n",
    "    Return the model theta0 + theta1*x\n",
    "    \n",
    "    \"\"\"\n",
    "   \n",
    "    return theta0+theta1*x"
   ]
  },
  {
   "cell_type": "markdown",
   "metadata": {},
   "source": [
    "## Activity 2.1 - Define the square error (L2) function\n",
    "Define the function, sqerror, that computes the error based on the two arguments provided. The function h($\\theta$) is as defined above. Assume that x and y are the observed vectors. We use the square error in this case."
   ]
  },
  {
   "cell_type": "code",
   "execution_count": null,
   "metadata": {},
   "outputs": [],
   "source": [
    "import numpy as np\n",
    "\n",
    "def sqerror(theta0, theta1):\n",
    "    \"\"\"\n",
    "    Input: parameters theta0 and theta1 of the model \n",
    "    Returns: square error sum\n",
    "    Assumptions: x, y vectors global\n",
    "    \"\"\"\n",
    "    ## BEGIN SOLUTION\n",
    "    \n",
    "    L = lambda a: a ** 2\n",
    "    y_pred = h(theta0, theta1, X_scaled_values)\n",
    "    err_lst = Y_scaled_values - y_pred\n",
    "    return float(sum(L(err_lst)))\n",
    "\n",
    "    ## END SOLUTION\n",
    "\n",
    "## testing\n",
    "sqerror(0.29,0.52)"
   ]
  },
  {
   "cell_type": "markdown",
   "metadata": {},
   "source": [
    "## Activity 2.2 - Define the L1 error function\n",
    "Define the function, abserror, that computes the average absolute error based on the two arguments provided. The function h($\\theta$) is as defined above. Assume that x and y are the observed vectors. We use the average abssolute error in this case."
   ]
  },
  {
   "cell_type": "code",
   "execution_count": null,
   "metadata": {},
   "outputs": [],
   "source": [
    "import numpy as np\n",
    "import math\n",
    "\n",
    "def abserror(theta0, theta1):\n",
    "    \"\"\"\n",
    "    Input: parameters theta0 and theta1 of the model \n",
    "    Returns: square error sum\n",
    "    Assumptions: x, y vectors global\n",
    "    \"\"\"\n",
    "    ## BEGIN SOLUTION\n",
    "    \n",
    "    y_pred = h(theta0, theta1, X_scaled_values)\n",
    "    err_lst = Y_scaled_values - y_pred\n",
    "    return float(sum(abs(err_lst)))\n",
    "    \n",
    "    ## END SOLUTION\n",
    "\n",
    "## testing\n",
    "abserror(0.29,0.52)"
   ]
  },
  {
   "attachments": {
    "image.png": {
     "image/png": "[encoded data removed]"
    }
   },
   "cell_type": "markdown",
   "metadata": {},
   "source": [
    "## Activity 2.3 - Define the Pseudo Huber loss function\n",
    "Define the function, phuberror, that computes the pseudo huber error based on the two arguments provided. The function h($\\theta$) is as defined above. Assume that x and y are the observed vectors. We use the average huber error in this case. The equation for this function is given by \n",
    "![image.png](attachment:image.png)\n",
    "\n",
    "where a is the absolute difference between predicted and observed (that is, h($\\theta$) - y) "
   ]
  },
  {
   "cell_type": "code",
   "execution_count": null,
   "metadata": {},
   "outputs": [],
   "source": [
    "import numpy as np\n",
    "import math\n",
    "\n",
    "def phuberror(theta0, theta1, delta):\n",
    "    \"\"\"\n",
    "    Input: parameters theta0 and theta1 of the model \n",
    "    Returns: square error sum\n",
    "    Assumptions: x, y vectors global\n",
    "    \"\"\"\n",
    "    ## BEGIN SOLUTION\n",
    "\n",
    "    return (delta**2 * (np.sqrt(1 + (abs(h(theta0, theta1, X_scaled_values) - Y_scaled_values)/delta)**2) - 1)).sum()\n",
    "\n",
    "    ## END SOLUTION\n",
    "\n",
    "## testing\n",
    "phuberror(0.29,0.52,0.1)"
   ]
  },
  {
   "cell_type": "markdown",
   "metadata": {},
   "source": [
    "## Activity 2.4 Interactive Exploration.\n",
    "Let us initialize the interactive widget (used in Lab5) to create sliders that allows us to change the values of theta0 and theta1 and see how things change. Complete the function f below. The function is expected to get two values alpha(theta0) and beta(theta1) and plot both the points and the line on the same plot. It also needs to compute the error and display and error."
   ]
  },
  {
   "cell_type": "code",
   "execution_count": null,
   "metadata": {},
   "outputs": [],
   "source": [
    "from ipywidgets import interact\n",
    "!jupyter nbextension enable --py widgetsnbextension"
   ]
  },
  {
   "cell_type": "code",
   "execution_count": null,
   "metadata": {},
   "outputs": [],
   "source": [
    "# interactive panel\n",
    "import pylab\n",
    "import numpy\n",
    "\n",
    "\n",
    "def f(theta0, theta1):\n",
    "    \"\"\"\n",
    "    Plot the line and points in an interactive panel\n",
    "    \"\"\"\n",
    "    # BEGIN SOLUTION\n",
    "    \n",
    "    og_y = h(theta0, theta1, X_scaled_values)\n",
    "    pylab.plot(X_scaled_values, og_y)\n",
    "    \n",
    "    s = sqerror(theta0, theta1)\n",
    "    a = abserror(theta0, theta1)\n",
    "    p = phuberror(theta0, theta1, .1)\n",
    "    pylab.title('Sqr: ' + str(s) + '  Abs: ' + str(a) + '  Hub: ' + str(p))\n",
    "\n",
    "    pylab.scatter(X_scaled_values, Y_scaled_values)\n",
    "    pylab.show()\n",
    "    \n",
    "    # END SOLUTION\n",
    "\n",
    "interact(f, theta1=(0,3,0.1), theta0=(-0,1,0.1));\n"
   ]
  },
  {
   "cell_type": "markdown",
   "metadata": {},
   "source": [
    "## Activity 2.5 Record the best values for each error function\n",
    "Write the \"best\" values you found for theta0 (y-intercept) and theta1 (slope) and the error. \n",
    "This error is the minimum you have observed based on the manual exploration using the widget \n",
    "above."
   ]
  },
  {
   "cell_type": "code",
   "execution_count": null,
   "metadata": {},
   "outputs": [],
   "source": [
    "# REPLACE THE DOTTED LINES WITH YOUR ANSWERS\n",
    "\n",
    "# BEST VALUES FOR SQUARE ERROR\n",
    "theta0 = .3\n",
    "theta1 = .5\n",
    "error = 2.894\n",
    "\n",
    "# BEST VALUES FOR ABS ERROR\n",
    "theta0 = .3\n",
    "theta1 = .5\n",
    "error = 15.5\n",
    "\n",
    "# BEST VALUES FOR HUBER ERROR\n",
    "theta0 = .3\n",
    "theta1 = .5\n",
    "error = .86"
   ]
  },
  {
   "cell_type": "markdown",
   "metadata": {},
   "source": [
    "# Task 3 - Gradient Descent\n",
    "In this task we use the Gradient descent methods to find a \"better\" values for theta0 and theta1 that minimizes the error. Gradient descent is an iterative algorithm. It computes values of theta0 and theta1 in the direction of reaching the minimum point in the graph. The iterative formulas are given by:\n",
    "$$\n",
    "\\theta_0 = \\theta_0 - \\alpha*(\\sum(\\theta_1*x_j + \\theta_0)-y_j)\n",
    "$$\n",
    "$$\n",
    "\\theta_1 = \\theta_1 - \\alpha*(\\sum(\\theta_1*x_j + \\theta_0 - y_j)*x_j\n",
    "$$\n",
    "\n",
    "The alpha ($\\alpha$) is called the \"learning rate\". It is important to pick a good value for alpha so that convergence is not too slow (small alpha) or at the risk of over shooting the minimum point (large alpha)"
   ]
  },
  {
   "cell_type": "markdown",
   "metadata": {},
   "source": [
    "## Activity 3.1 Compute Gradient Descent (L2)"
   ]
  },
  {
   "cell_type": "code",
   "execution_count": null,
   "metadata": {},
   "outputs": [],
   "source": [
    "# given the observed data (obsX,obsY), learning rate (alpha), and error threshold (how many decimals of accuracy) \n",
    "# the function returns theta0 and theta1\n",
    "# that minimizes the error.\n",
    "\n",
    "def gd2(obsX, obsY, alpha, threshold):\n",
    "    \"\"\"\n",
    "    Return theta0, and theta1 from Gradient Descent algorithm\n",
    "    \"\"\"\n",
    "    theta0, theta1 = 0, 0\n",
    "    # BEGIN SOLUTION\n",
    "    sum_theta0 = lambda a,b : float(sum(b*x+a-y for x,y in zip(obsX, obsY)))\n",
    "    sum_theta1 = lambda a,b : float(sum((b*x+a-y)*x for x,y in zip(obsX, obsY)))\n",
    "    prev_theta0, prev_theta1 = 0, 0\n",
    "    oldError = sqerror(prev_theta0, prev_theta1)\n",
    "    newError = oldError + 100\n",
    "    iterations = 0\n",
    "\n",
    "    while abs(newError - oldError) >= threshold:\n",
    "        theta0 = prev_theta0 - alpha * sum_theta0(prev_theta0, prev_theta1)\n",
    "        theta1 = prev_theta1 - alpha * sum_theta1(prev_theta0, prev_theta1)\n",
    "\n",
    "        newError = sqerror(theta0, theta1)\n",
    "        oldError = sqerror(prev_theta0, prev_theta1)\n",
    "\n",
    "        prev_theta0 = theta0\n",
    "        prev_theta1 = theta1\n",
    "\n",
    "        iterations += 1\n",
    "    # END SOLUTION        \n",
    "    return theta0,theta1\n",
    "    \n",
    "#testing\n",
    "print(gd2(X_scaled_values,Y_scaled_values,0.01,0.0001))"
   ]
  },
  {
   "cell_type": "markdown",
   "metadata": {},
   "source": [
    "## Activity 3.2 Compute Gradient Descent (Huber)\n",
    "First, compute a formula for the huber gradient descent using similar derivative methods used in gradient descent for L2 loss (we did derivatives for L2 loss in the lecture. You need to do the derivatives for humber function as defined above)."
   ]
  },
  {
   "cell_type": "code",
   "execution_count": null,
   "metadata": {},
   "outputs": [],
   "source": [
    "# given the observed data (obsX,obsY), learning rate (alpha), error change threshold,\n",
    "# and delta from the huber loss model,\n",
    "# the function returns theta0 and theta1\n",
    "# that minimizes the error.\n",
    "\n",
    "delta = 1.0\n",
    "def huberLoss(a):\n",
    "    return a/((1 + (a/delta)**2)**(1/2))\n",
    "\n",
    "def gdh(obsX, obsY, alpha, threshold, delta):\n",
    "    \"\"\"\n",
    "    Return theta0 and theta1, error from huber gradient Descent algorithm\n",
    "    \"\"\"\n",
    "    theta0, theta1 = 0, 0\n",
    "\n",
    "    while(True):\n",
    "      temp = obsY - (theta1 * obsX + theta0)\n",
    "    \n",
    "      prev_theta0 = alpha * sum(np.array(list(map(huberLoss, temp))))[0]\n",
    "      prev_theta1 =  alpha * sum(np.array(list(map(huberLoss, temp * obsX))))[0]\n",
    "    \n",
    "      theta0 += prev_theta0\n",
    "      theta1 += prev_theta1\n",
    "    \n",
    "      if abs(prev_theta0)<= threshold and abs(prev_theta1) <= threshold:\n",
    "        break\n",
    "    # END SOLUTION        \n",
    "    return theta0,theta1\n",
    "\n",
    "# testing\n",
    "print(gdh(X_scaled_values,Y_scaled_values,0.001,0.0001,1.0))"
   ]
  },
  {
   "cell_type": "markdown",
   "metadata": {},
   "source": [
    "## Activity 3.3"
   ]
  },
  {
   "cell_type": "markdown",
   "metadata": {},
   "source": [
    "\n",
    "### 3.3.1. Write the values of theta0, theta1, alpha, error that provided the minimum value through gradient descent"
   ]
  },
  {
   "cell_type": "code",
   "execution_count": null,
   "metadata": {},
   "outputs": [],
   "source": [
    "# REPLACE THE DOTTED LINES WITH YOUR ANSWERS\n",
    "\n",
    "# L2 ERROR\n",
    "theta0 = .3\n",
    "theta1 = .5\n",
    "alpha = 0\n",
    "error = 2.894\n",
    "\n",
    "# HUBER ERROR\n",
    "theta0 = .3\n",
    "theta1 = .5\n",
    "alpha = 0\n",
    "error = .861"
   ]
  },
  {
   "cell_type": "markdown",
   "metadata": {},
   "source": [
    "### 3.3.2. Experiment with the new values of theta0, theta1 to see if the interactive widget shows similar things."
   ]
  },
  {
   "cell_type": "code",
   "execution_count": null,
   "metadata": {},
   "outputs": [],
   "source": [
    "interact(f, theta1=(0,3,0.1), theta0=(-0,1,0.1));"
   ]
  },
  {
   "cell_type": "markdown",
   "metadata": {},
   "source": [
    "## Activity 3.4 Compare with Library Estimators (just for L2 error)\n",
    "Now use the sklearn LinearRegression module to automate this process. What coefficients do you get? Are they close what you received from gradient descent? Find the error from sklearn package. Is that error smaller or bigger than the squared error you received? Write your answer below."
   ]
  },
  {
   "cell_type": "code",
   "execution_count": null,
   "metadata": {},
   "outputs": [],
   "source": [
    "from sklearn.linear_model import LinearRegression\n",
    "lm = LinearRegression()\n",
    "result = lm.fit(X_scaled_values,Y_scaled_values)\n",
    "print(result.intercept_)\n",
    "print(result.coef_)"
   ]
  },
  {
   "cell_type": "code",
   "execution_count": null,
   "metadata": {},
   "outputs": [],
   "source": [
    "theta0 = result.intercept_\n",
    "theta1 = result.coef_\n",
    "sqerror(theta0,theta1)"
   ]
  },
  {
   "cell_type": "markdown",
   "metadata": {},
   "source": [
    "### Write your answers to the Activity 3.4 questions here\n",
    "\n",
    "***BEGIN SOLUTION***\n",
    "\n",
    "I got .296 and .524 which is fairly close to the values I received from gradient descent. The error I got from the sklearn package is almost identical to the one I recieved. \n",
    "\n",
    "***END SOLUTION***"
   ]
  },
  {
   "cell_type": "markdown",
   "metadata": {},
   "source": [
    "## Activity 3.5 - Predict Your Final Exam Score\n",
    "The regression line was obtained using grades from CS 205 course. We can consider them to be training data. Now we trained a model (with theta0 and theta1) so we can predict the grade for your own course (CS 439) based on your midterm grade.\n",
    "We will do few things before we can accomplish this task."
   ]
  },
  {
   "cell_type": "markdown",
   "metadata": {},
   "source": [
    "### 3.5.1 Read the midterm grades\n",
    "The grade file for CS439 midterm is given in data/CS439_grades.csv. Read this data file to a new dataframe."
   ]
  },
  {
   "cell_type": "code",
   "execution_count": null,
   "metadata": {},
   "outputs": [],
   "source": [
    "import pandas as pd\n",
    "df_439 = pd.read_csv(\"data/CS439_grades_03_15_19.csv\")\n",
    "df_439.info()\n",
    "mid = df_439[df_439['midterm']<80]"
   ]
  },
  {
   "cell_type": "markdown",
   "metadata": {},
   "source": [
    "### 3.5.2 Predict your Grade"
   ]
  },
  {
   "cell_type": "code",
   "execution_count": null,
   "metadata": {},
   "outputs": [],
   "source": [
    "from sklearn import preprocessing\n",
    "\n",
    "X = mid.iloc[:,[0]]\n",
    "scaler = MinMaxScaler()\n",
    "# BEGIN SOLUTION\n",
    "\n",
    "X_scaled_values = scaler.fit_transform(X.values.reshape(-1, 1))\n",
    "\n",
    "# END SOLUTION\n",
    "\n",
    "n = len(X_scaled_values)\n",
    "newX = X_scaled_values.reshape(n)\n",
    "    \n",
    "for i in range(len(X_scaled_values)):\n",
    "    print('Midterm Score : ', round(100*newX[i],1), '\\t', 'Predicted Score : ',100*h(theta0, theta1, newX[i])[0][0])"
   ]
  },
  {
   "cell_type": "markdown",
   "metadata": {},
   "source": [
    "# Task 4 - Feature Engineering\n",
    "In this task we will learn about feature engineering and how to use one-hot-encoding to analyze a data set.\n",
    "To begin with, we load the tips dataset from the seaborn library. The tips data contains records of tips, total bill, and personal information about the person who paid the bill."
   ]
  },
  {
   "cell_type": "code",
   "execution_count": null,
   "metadata": {},
   "outputs": [],
   "source": [
    "data = sns.load_dataset(\"tips\")\n",
    "print(\"Number of Records:\", len(data))\n",
    "data.head()"
   ]
  },
  {
   "cell_type": "markdown",
   "metadata": {},
   "source": [
    "## Activity 4.1: Defining the Model and Feature Engineering\n",
    "Previously, we defined a simple linear model with only two parameters. Now let's make a more complicated model that utilizes other features in a dataset. Let our prediction for tip be a combination of the following features:\n",
    "\n",
    "$$\n",
    "\\text{Tip} = \\theta_1 * \\text{total_bill} + \\theta_2 * \\text{sex} + \\theta_3 * \\text{smoker} + \\theta_4 * \\text{day} + \\theta_5 * \\text{time} + \\theta_6 * \\text{size}\n",
    "$$\n",
    "\n",
    "Notice that some of these features are not numbers! But our linear model will need to predict a numerical value. \n"
   ]
  },
  {
   "cell_type": "markdown",
   "metadata": {},
   "source": [
    "### 4.1.1 Split the data into tips (column tip) and X (all other columns)"
   ]
  },
  {
   "cell_type": "code",
   "execution_count": null,
   "metadata": {},
   "outputs": [],
   "source": [
    "## BEGIN SOLUTION\n",
    "tips = data[\"tip\"]\n",
    "X = data[[\"total_bill\", \"sex\", \"smoker\", \"day\", \"time\", \"size\"]]\n",
    "## END SOLUTION"
   ]
  },
  {
   "cell_type": "markdown",
   "metadata": {},
   "source": [
    "## Activity 4.2: Feature Engineering\n",
    "First, let's convert everything to numerical values. A straightforward approach is to map some of these non-numerical features into numerical ones. For example, we can treat the day as a value from 1-7. However, one of the issues in directly translating to a numeric value is that we unintentially assign certain features disproportionate weight. Consider assigning Sunday to the numeric value of 7. Monday is assigned to 1 and thus Sunday has 7 times the influence of Monday in our linear model which can lower the accuracy of our model. We will use **one-hot encoding** to address this issue (see lecture notes)\n",
    "\n",
    "One-hot encoding will produce a binary vector indicating the non-numeric feature. Sunday would be encoded as a [0 0 0 0 0 0 1]. This assigns a more even weight across each category in non-numeric features. Complete the code below to one-hot encode our dataset."
   ]
  },
  {
   "cell_type": "code",
   "execution_count": null,
   "metadata": {},
   "outputs": [],
   "source": [
    "def one_hot_encode(data):\n",
    "    \"\"\"\n",
    "    Return the one-hot encoded dataframe of our input, data. \n",
    "    Hint: check pd.get_dummies\n",
    "    \"\"\"\n",
    "    ### BEGIN SOLUTION\n",
    "    return pd.get_dummies(data)\n",
    "    ### END SOLUTION"
   ]
  },
  {
   "cell_type": "code",
   "execution_count": null,
   "metadata": {},
   "outputs": [],
   "source": [
    "one_hot_X = one_hot_encode(X)\n",
    "one_hot_X.head()"
   ]
  },
  {
   "cell_type": "markdown",
   "metadata": {},
   "source": [
    "## Activity 4.3: Defining the Model\n",
    "Now that all of our data is numeric, let's define our model function. Note that X and thetas are matrices now. Use matrix products to compute the model."
   ]
  },
  {
   "cell_type": "code",
   "execution_count": null,
   "metadata": {},
   "outputs": [],
   "source": [
    "def linear_model(thetas, X):\n",
    "    \"\"\"\n",
    "    Return the linear combination of thetas and features as defined above.\n",
    "    \"\"\"\n",
    "    ### BEGIN SOLUTION\n",
    "    return X.dot(thetas)\n",
    "    ### END SOLUTION"
   ]
  },
  {
   "cell_type": "code",
   "execution_count": null,
   "metadata": {},
   "outputs": [],
   "source": [
    "assert linear_model(np.arange(1,5), np.arange(1,5)) == 30"
   ]
  },
  {
   "cell_type": "markdown",
   "metadata": {},
   "source": [
    "## Activity 4.4: Fitting the Model: Numerical Methods\n",
    "Recall in the lectures and in labs, we defined multiple loss functions and found optimal theta using the scipy.minimize function. Adapt the loss functions and optimization code from the previous lab (provided below) to work with your new linear model."
   ]
  },
  {
   "cell_type": "code",
   "execution_count": null,
   "metadata": {},
   "outputs": [],
   "source": [
    "from scipy.optimize import minimize\n",
    "\n",
    "def abserror(y, y_hat):\n",
    "    return np.abs(y-y_hat)\n",
    "\n",
    "def sqerror(y, y_hat):\n",
    "    return (y - y_hat)**2\n",
    "\n",
    "def minimize_average_loss(loss_function, model, x, y):\n",
    "    \"\"\"\n",
    "    loss_function: either the squared or absolute loss functions from above.\n",
    "    model: the model (as defined above)\n",
    "    x: the x values (one-hot encoded data)\n",
    "    y: the y values (tip amounts)\n",
    "    return the estimate for each theta as a vector\n",
    "    \n",
    "    Note we will ignore failed convergence for this lab ... \n",
    "    \"\"\"\n",
    "    \n",
    "    ## Notes on the following function call which you need to finish:\n",
    "    # \n",
    "    # 0. the ... should be replaced with the average loss evaluated on \n",
    "    #       the data x, y using the model and appropriate loss function\n",
    "    # 1. x0 are the initial values for THETA.  Yes, this is confusing\n",
    "    #       but optimization people like x to be the thing they are \n",
    "    #       optimizing.\n",
    "    # 2. We extract the 'x' entry in the dictionary which corresponds\n",
    "    #       to the value of thetas at the optimum\n",
    "    ### BEGIN SOLUTION\n",
    "    return minimize(lambda theta: loss_function(model(theta, x), y).mean(), x0= np.zeros(12))['x']\n",
    "    ### END SOLUTION\n",
    "\n",
    "minimize_average_loss(sqerror, linear_model, one_hot_X, tips)"
   ]
  },
  {
   "cell_type": "markdown",
   "metadata": {},
   "source": [
    "## Activity 4.5: Fitting the Model: Analytical Methods\n",
    "Let's also fit our model analytically, for the L2 loss function. In this question we will derive an analytical solution, fit our model and compare our results with our numerical optimization results."
   ]
  },
  {
   "cell_type": "markdown",
   "metadata": {},
   "source": [
    "### 4.5.1: Least Squares Solution\n",
    "Recall that if we're fitting a linear model with the l2 loss function, we are performing least squares! Remember, we are solving the following optimization problem for least squares:\n",
    "\n",
    "$$\\min_{\\theta} ||X\\theta - y||^2$$\n",
    "\n",
    "Let's begin by deriving the analytic solution to least squares. Write your answer in LaTeX in the cell below. Assume X is full column rank."
   ]
  },
  {
   "cell_type": "markdown",
   "metadata": {},
   "source": [
    "***BEGIN SOLUTION***\n",
    "\n",
    "$$ \\theta=(X^TX)^{-1} X^Ty $$\n",
    "\n",
    "***END SOLUTION***"
   ]
  },
  {
   "cell_type": "markdown",
   "metadata": {},
   "source": [
    "### 4.5.2: Solving for Theta\n",
    "Now that we have the analytic solution for $\\theta$, let's find the optimal numerical thetas for our tips dataset. Fill out the function below. Make sure you use the float type in your calculations using .astype(float) and use the np.linalg.inv function."
   ]
  },
  {
   "cell_type": "code",
   "execution_count": null,
   "metadata": {},
   "outputs": [],
   "source": [
    "def get_analytical(x, y):\n",
    "    \"\"\"\n",
    "    x: our one-hot encoded dataset\n",
    "    y: tip amounts\n",
    "    \"\"\"\n",
    "    ### BEGIN SOLUTION\n",
    "    \n",
    "    return np.linalg.inv(x.T.dot(x)).dot(x.T.dot(y))\n",
    "    \n",
    "    ### END SOLUTION"
   ]
  },
  {
   "cell_type": "code",
   "execution_count": null,
   "metadata": {},
   "outputs": [],
   "source": [
    "analytical_thetas = get_analytical(one_hot_X.astype(float), tips.astype(float))\n",
    "print(\"Our analytical loss is: \", sqerror(linear_model(analytical_thetas, one_hot_X),tips).mean())\n",
    "print(\"Our numerical loss is: \", sqerror(linear_model(minimize_average_loss(sqerror, linear_model, one_hot_X, tips), one_hot_X), tips).mean())"
   ]
  },
  {
   "cell_type": "markdown",
   "metadata": {},
   "source": [
    "## Activity 4.5.3 Compare Analytical and Numerical Loss\n",
    "Our analytical loss is surprisingly much worse than our numerical loss. Why is this? Explain below.\n",
    "\n",
    "Hint: https://stackoverflow.com/questions/31256252/why-does-numpy-linalg-solve-offer-more-precise-matrix-inversions-than-numpy-li"
   ]
  },
  {
   "cell_type": "markdown",
   "metadata": {},
   "source": [
    "### BEGIN SOLUTION\n",
    "\n",
    "The reason for this is because in our get_analytical function we are using numpy.linalg.inv() which does not give precise answers. It has to compute the inverse of a matrix by solving for A^-1 in A * A^-1 = I where I is the identity. However it takes more floating point operations to solve for A^-1. Also the matrix multiplication would involve more floating point operations which leads to even more slower performance and higher error. The better solution would have been to use np.linalg.solve.\n",
    "\n",
    "### END SOLUTION"
   ]
  },
  {
   "cell_type": "markdown",
   "metadata": {},
   "source": [
    "### Feedback\n",
    "Please provide feedback on this lab.\n",
    "* how would you rate this lab (from 1-10, 10-highest) : 9\n",
    "* how can we improve his lab? : This was one of the more difficult labs, I think some clarification on questions would have made it easier."
   ]
  },
  {
   "cell_type": "markdown",
   "metadata": {},
   "source": [
    "<div class=\"alert alert-block alert-info\">\n",
    "<h2>Submission Instructions</h2> \n",
    "<b> File Name:</b> Please name the file as your_section_your_netID_lab6.jpynb<br>\n",
    "<b> Submit To: </b> Canvas &rarr; Assignments &rarr; lab6 <br>\n",
    "<b>Warning:</b> Failure to follow directions may result in loss points.<br>\n",
    "</div>"
   ]
  },
  {
   "cell_type": "markdown",
   "metadata": {},
   "source": [
    "Lab Developed by A.D. Gunawardena @ 2019-2021"
   ]
  }
 ],
 "metadata": {
  "kernelspec": {
   "display_name": "Python 3",
   "language": "python",
   "name": "python3"
  },
  "language_info": {
   "codemirror_mode": {
    "name": "ipython",
    "version": 3
   },
   "file_extension": ".py",
   "mimetype": "text/x-python",
   "name": "python",
   "nbconvert_exporter": "python",
   "pygments_lexer": "ipython3",
   "version": "3.8.5"
  }
 },
 "nbformat": 4,
 "nbformat_minor": 4
}
